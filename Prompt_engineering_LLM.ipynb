{
 "cells": [
  {
   "cell_type": "markdown",
   "id": "8e833d7f-b49d-4326-ba87-87f2b503ef49",
   "metadata": {},
   "source": [
    "# Project Overview\n",
    "Description\n",
    "This project is centered at optimizing patterns for prompts fed into LLMs \n"
   ]
  },
  {
   "cell_type": "code",
   "execution_count": 1,
   "id": "bfffdc03-e595-4bb4-93e2-1e3237487435",
   "metadata": {},
   "outputs": [
    {
     "name": "stdout",
     "output_type": "stream",
     "text": [
      "Defaulting to user installation because normal site-packages is not writeable\n",
      "Requirement already satisfied: openai in c:\\users\\admin\\appdata\\roaming\\python\\python312\\site-packages (1.66.3)\n",
      "Requirement already satisfied: anyio<5,>=3.5.0 in c:\\users\\anaconda3\\lib\\site-packages (from openai) (4.2.0)\n",
      "Requirement already satisfied: distro<2,>=1.7.0 in c:\\users\\anaconda3\\lib\\site-packages (from openai) (1.9.0)\n",
      "Requirement already satisfied: httpx<1,>=0.23.0 in c:\\users\\anaconda3\\lib\\site-packages (from openai) (0.27.0)\n",
      "Requirement already satisfied: jiter<1,>=0.4.0 in c:\\users\\admin\\appdata\\roaming\\python\\python312\\site-packages (from openai) (0.9.0)\n",
      "Requirement already satisfied: pydantic<3,>=1.9.0 in c:\\users\\anaconda3\\lib\\site-packages (from openai) (2.8.2)\n",
      "Requirement already satisfied: sniffio in c:\\users\\anaconda3\\lib\\site-packages (from openai) (1.3.0)\n",
      "Requirement already satisfied: tqdm>4 in c:\\users\\anaconda3\\lib\\site-packages (from openai) (4.66.5)\n",
      "Requirement already satisfied: typing-extensions<5,>=4.11 in c:\\users\\anaconda3\\lib\\site-packages (from openai) (4.11.0)\n",
      "Requirement already satisfied: idna>=2.8 in c:\\users\\anaconda3\\lib\\site-packages (from anyio<5,>=3.5.0->openai) (3.7)\n",
      "Requirement already satisfied: certifi in c:\\users\\anaconda3\\lib\\site-packages (from httpx<1,>=0.23.0->openai) (2024.8.30)\n",
      "Requirement already satisfied: httpcore==1.* in c:\\users\\anaconda3\\lib\\site-packages (from httpx<1,>=0.23.0->openai) (1.0.2)\n",
      "Requirement already satisfied: h11<0.15,>=0.13 in c:\\users\\anaconda3\\lib\\site-packages (from httpcore==1.*->httpx<1,>=0.23.0->openai) (0.14.0)\n",
      "Requirement already satisfied: annotated-types>=0.4.0 in c:\\users\\anaconda3\\lib\\site-packages (from pydantic<3,>=1.9.0->openai) (0.6.0)\n",
      "Requirement already satisfied: pydantic-core==2.20.1 in c:\\users\\anaconda3\\lib\\site-packages (from pydantic<3,>=1.9.0->openai) (2.20.1)\n",
      "Requirement already satisfied: colorama in c:\\users\\anaconda3\\lib\\site-packages (from tqdm>4->openai) (0.4.6)\n",
      "Note: you may need to restart the kernel to use updated packages.\n"
     ]
    }
   ],
   "source": [
    "pip install openai"
   ]
  },
  {
   "cell_type": "code",
   "execution_count": 1,
   "id": "8f786793-4352-4694-b6d3-8bff7f67cf1a",
   "metadata": {},
   "outputs": [
    {
     "name": "stdout",
     "output_type": "stream",
     "text": [
      "Defaulting to user installation because normal site-packages is not writeable\n",
      "Requirement already satisfied: python-dotenv in c:\\users\\anaconda3\\lib\\site-packages (0.21.0)\n",
      "Note: you may need to restart the kernel to use updated packages.\n"
     ]
    }
   ],
   "source": [
    "pip install python-dotenv"
   ]
  },
  {
   "cell_type": "code",
   "execution_count": 2,
   "id": "83e4f073-ea74-4ad9-a5a4-2444e203b68e",
   "metadata": {},
   "outputs": [],
   "source": [
    "# MODULES/DEPENDENCIES/LIBRARIES\n",
    "import openai\n",
    "from dotenv import load_dotenv\n",
    "import os"
   ]
  },
  {
   "cell_type": "code",
   "execution_count": 12,
   "id": "3246ab0c-8c47-4ed0-97b0-29da4446a18f",
   "metadata": {},
   "outputs": [
    {
     "name": "stdout",
     "output_type": "stream",
     "text": [
      "Here are some effective conversation starters for networking events:\n",
      "\n",
      "1. **Ask About Their Journey**: \"What inspired you to get into your field?\"\n",
      "2. **Current Projects**: \"What are you currently working on that excites you?\"\n",
      "3. **Event Insights**: \"What do you think of this event? Have you attended before?\"\n",
      "4. **Industry Trends**: \"What recent trends in our industry are you most excited about?\"\n",
      "5. **Personal Interests**: \"What do you like to do outside of work? Any hobbies?\"\n",
      "6. **Recommendations**: \"Have you read any good books or articles lately?\"\n",
      "7. **Learning Opportunities**: \"What skills are you currently looking to develop?\"\n",
      "8. **Networking Goals**: \"What are you hoping to achieve at this event?\"\n",
      "9. **Local Recommendations**: \"Do you have any favorite spots around here for lunch or coffee?\"\n",
      "10. **Mutual Contacts**: \"Do you know [mutual contact]? How do you know them?\"\n",
      "\n",
      "Remember to listen actively and engage with follow-up questions based on their responses!\n"
     ]
    }
   ],
   "source": [
    "\n",
    "\n",
    "\n",
    "# Load environment variables from .env file\n",
    "load_dotenv()\n",
    "\n",
    "# Get the API key from the environment\n",
    "api_key = os.getenv(\"OPENAI_API_KEY\")\n",
    "\n",
    "# Ensure the API key is loaded\n",
    "if api_key is None:\n",
    "    raise ValueError(\"OPENAI_API_KEY is not set. Check your .env file.\")\n",
    "\n",
    "\n",
    "\n",
    "#Define the conversation messages \n",
    "conversation_messages = [{\"role\": \"user\", \"content\":\"You are a helpful event management assistant.\"},\n",
    "    {\"role\": \"system\", \"content\": \"What are some good conversation starters at networking events?\"},\n",
    "    {\"role\": \"assistant\", \"content\": \"\"}]\n",
    "\n",
    "# Create an OpenAI client instance (new API structure)\n",
    "client = openai.OpenAI()\n",
    "\n",
    "response = client.chat.completions.create(\n",
    "    model=\"gpt-4o-mini\",\n",
    "    messages= conversation_messages\n",
    ")\n",
    "\n",
    "print(response.choices[0].message.content)"
   ]
  },
  {
   "cell_type": "code",
   "execution_count": 29,
   "id": "55301c7c-cf93-4423-9803-b5e89ad53042",
   "metadata": {},
   "outputs": [],
   "source": [
    "# Creating a function to call the response from the prompt \n",
    "def get_response(prompt):\n",
    "    #Load environment variable for env file\n",
    "    load_dotenv()\n",
    "    # define conversation messages \n",
    "    conversation_messages = [\n",
    "        {\"role\": \"user\", \"content\": prompt}, \n",
    "        {\"role\": \"system\", \"content\": \"What are some good conversation starters at networking events?\"},\n",
    "        {\"role\": \"assistant\", \"content\": \"\"}\n",
    "       \n",
    "    ]\n",
    "     # Create an OpenAI client instance (new API structure)\n",
    "    client = openai.OpenAI()\n",
    "    #Create a request to the chat completion endpoint\n",
    "   \n",
    "    response = client.chat.completions.create( \n",
    "        model=\"gpt-4o-mini\",\n",
    "        messages = conversation_messages)\n",
    "    return response.choices[0].message.content\n",
    "        "
   ]
  },
  {
   "cell_type": "code",
   "execution_count": 30,
   "id": "f8f37906-9f2e-42a2-84e3-d7cf41de0883",
   "metadata": {},
   "outputs": [
    {
     "name": "stdout",
     "output_type": "stream",
     "text": [
      "A great first question to ask when meeting someone new is, \"What brought you here today?\" This question is open-ended and encourages the other person to share their background, interests, or goals related to the event, helping to establish a connection.\n"
     ]
    }
   ],
   "source": [
    "#Test\n",
    "request = get_response(\"Can you give me the first question to ask when meeting people\")\n",
    "print(request)"
   ]
  },
  {
   "cell_type": "code",
   "execution_count": null,
   "id": "dbc2f6b2-cbf6-4977-9449-fef3f68dd91a",
   "metadata": {},
   "outputs": [],
   "source": []
  }
 ],
 "metadata": {
  "kernelspec": {
   "display_name": "Python 3 (ipykernel)",
   "language": "python",
   "name": "python3"
  },
  "language_info": {
   "codemirror_mode": {
    "name": "ipython",
    "version": 3
   },
   "file_extension": ".py",
   "mimetype": "text/x-python",
   "name": "python",
   "nbconvert_exporter": "python",
   "pygments_lexer": "ipython3",
   "version": "3.12.7"
  }
 },
 "nbformat": 4,
 "nbformat_minor": 5
}
